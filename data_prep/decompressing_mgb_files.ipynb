{
  "cells": [
    {
      "cell_type": "markdown",
      "id": "f757ef79-0473-4c17-a9f8-79c20633dc87",
      "metadata": {
        "id": "f757ef79-0473-4c17-a9f8-79c20633dc87"
      },
      "source": [
        "# 🧠 Part 1: The Plan for unzipping the Train and Test folders and view the MPEG-G files\n",
        "We’ll create a local Jupyter notebook or script that:\n",
        "\n",
        "0. 🔧 Step 0: Prerequisites\n",
        "1. 🐳 Pulls and runs the Genie Docker container\n",
        "2. 📤 Extract the Train and Test File from TrainFiles.zip and TestFiles.zip\n",
        "3. 🐳 Pull the Genie Docker Image\n",
        "4. 📂 Mounts your ```.mgb``` file for one file in TrainFiles.\n",
        "5. 🧬 Load FASTQ in Python\n",
        "6. 💡 Explain the layers and outputs in plain English for a data scientist unfamiliar with bioinformatics\n",
        "7. 🏃 Run steps 4 & 5 for all files in TrainFiles and TestFiles\n"
      ]
    },
    {
      "cell_type": "markdown",
      "id": "4f6c544b-60de-4a99-b562-1801718423b4",
      "metadata": {
        "id": "4f6c544b-60de-4a99-b562-1801718423b4"
      },
      "source": [
        "## 📓 Let’s Start with a Local Notebook\n",
        "Here's how your local notebook should look:"
      ]
    },
    {
      "cell_type": "markdown",
      "id": "ba1c3f32-5008-443a-92ef-cda803562cb5",
      "metadata": {
        "id": "ba1c3f32-5008-443a-92ef-cda803562cb5",
        "jp-MarkdownHeadingCollapsed": true
      },
      "source": [
        "### 🔧 Step 0: Prerequisites\n",
        "\n",
        "1. Install an Integrated Development environment VSCode or Anaconda\n",
        "2. Install Docker (if you haven’t already):\n",
        "👉 https://www.docker.com/products/docker-desktop/\n",
        "3. Install Python\n",
        "4. Install Conda\n",
        "5. Create a virtual invironment\n",
        "\n",
        "Note: doing this you may be asked to install command line tools depending on your machine, xcode, git, etc, but it is worth it as you will find them useful. Some of the downloads may take more than half an hour, stay focused and follow instructions.\n",
        "\n",
        " Instructions for Mac are available [here](https://docs.google.com/document/d/1Rug61nxs6FLqlYh8Qzqgzuv6nq3lyTq45HVB6cqERfE/edit?usp=sharing)  \n",
        "If you already have IDE, Python, CondaInstall Docker:\n",
        "👉 https://www.docker.com/products/docker-desktop/\n",
        "\n",
        "Important:\n",
        "\n",
        " However, we recommend that you install Biopython using conda, as it will also install the required dependencies.\n",
        "\n",
        "` conda install Bio`\n",
        "\n",
        " A better approach is to create a new conda environment for your project, and then install Biopython in that environment:\n",
        "\n",
        " `conda create -n myenv mpegg_env `\n",
        " Activate the environment\n",
        "\n",
        " `conda activate mpegg_env`\n",
        " Now you can install Biopython in the new environment  and then import Bio in your code\n",
        "\n",
        "` conda install -c conda-forge biopython`\n",
        "\n"
      ]
    },
    {
      "cell_type": "code",
      "execution_count": null,
      "id": "761565c7",
      "metadata": {},
      "outputs": [],
      "source": [
        "#Uncomment the following lines to install the required packages\n",
        "\n",
        "# !pip install pandas --quiet\n",
        "# !pip install numpy --quiet\n",
        "# !pip install matplotlib --quiet\n",
        "# !pip install seaborn --quiet\n",
        "# !pip install Bio --quiet\n",
        "# !pip install scikit-learn --quiet\n",
        "# !pip install tqdm --quiet\n"
      ]
    },
    {
      "cell_type": "code",
      "execution_count": 1,
      "id": "02ad8d83-b7c2-4127-976d-a4830a656970",
      "metadata": {
        "id": "02ad8d83-b7c2-4127-976d-a4830a656970",
        "outputId": "0f2a2e96-bd38-44d9-e79b-8e6eded984c8"
      },
      "outputs": [
        {
          "name": "stdout",
          "output_type": "stream",
          "text": [
            "\n",
            "Hello from Docker!\n",
            "This message shows that your installation appears to be working correctly.\n",
            "\n",
            "To generate this message, Docker took the following steps:\n",
            " 1. The Docker client contacted the Docker daemon.\n",
            " 2. The Docker daemon pulled the \"hello-world\" image from the Docker Hub.\n",
            "    (amd64)\n",
            " 3. The Docker daemon created a new container from that image which runs the\n",
            "    executable that produces the output you are currently reading.\n",
            " 4. The Docker daemon streamed that output to the Docker client, which sent it\n",
            "    to your terminal.\n",
            "\n",
            "To try something more ambitious, you can run an Ubuntu container with:\n",
            " $ docker run -it ubuntu bash\n",
            "\n",
            "Share images, automate workflows, and more with a free Docker ID:\n",
            " https://hub.docker.com/\n",
            "\n",
            "For more examples and ideas, visit:\n",
            " https://docs.docker.com/get-started/\n",
            "\n"
          ]
        }
      ],
      "source": [
        "# Test Docker works\n",
        "!docker run hello-world"
      ]
    },
    {
      "cell_type": "code",
      "execution_count": 2,
      "id": "d76e459f-00d9-4562-89b8-96b593b338bf",
      "metadata": {
        "id": "d76e459f-00d9-4562-89b8-96b593b338bf"
      },
      "outputs": [],
      "source": [
        "# Import packages\n",
        "import os\n",
        "import zipfile\n",
        "import subprocess\n",
        "import random\n",
        "import pandas as pd\n",
        "import numpy as np\n",
        "import matplotlib.pyplot as plt\n",
        "import shutil\n",
        "\n",
        "\n",
        "from Bio import SeqIO\n",
        "from collections import Counter\n",
        "\n",
        "from sklearn.ensemble import RandomForestClassifier\n",
        "from sklearn.model_selection import train_test_split\n",
        "from sklearn.preprocessing import LabelEncoder\n",
        "from sklearn.metrics import classification_report\n",
        "\n",
        "# Errors ignore\n",
        "import warnings\n",
        "warnings.filterwarnings('ignore')"
      ]
    },
    {
      "cell_type": "markdown",
      "id": "3016962c-4346-4c93-a98b-3a50a93a9fc6",
      "metadata": {
        "id": "3016962c-4346-4c93-a98b-3a50a93a9fc6"
      },
      "source": [
        "## Step 1. 📤 Extract the Train and Test File from a .zip"
      ]
    },
    {
      "cell_type": "markdown",
      "id": "17685824-7367-453c-8927-c42a1be05faa",
      "metadata": {
        "id": "17685824-7367-453c-8927-c42a1be05faa"
      },
      "source": [
        "## 🐳 Step 2: Pull the Genie Docker Image"
      ]
    },
    {
      "cell_type": "code",
      "execution_count": 4,
      "id": "665031c8-871b-4aff-a65c-a359d82af235",
      "metadata": {
        "id": "665031c8-871b-4aff-a65c-a359d82af235",
        "outputId": "0e6bf544-d52d-4cb5-816b-733f3f9dbde3"
      },
      "outputs": [
        {
          "name": "stdout",
          "output_type": "stream",
          "text": [
            "latest: Pulling from muefab/genie\n",
            "Digest: sha256:c3112a3879cc18061bbab5ed8f76dec255ab1be46e2133cd59320dd5ba98ef89\n",
            "Status: Image is up to date for muefab/genie:latest\n",
            "docker.io/muefab/genie:latest\n"
          ]
        }
      ],
      "source": [
        "# Ensure you have the latest version of Genie\n",
        "!docker pull muefab/genie:latest"
      ]
    },
    {
      "cell_type": "markdown",
      "id": "736a0714-fe8a-4965-8177-8df0556eb4ad",
      "metadata": {
        "id": "736a0714-fe8a-4965-8177-8df0556eb4ad"
      },
      "source": [
        "## 🏃 Steps 4 - 8 for one MPEG-G file"
      ]
    },
    {
      "cell_type": "markdown",
      "id": "856fc2c5-98c5-4c49-b1a2-f5a71a64c763",
      "metadata": {
        "id": "856fc2c5-98c5-4c49-b1a2-f5a71a64c763"
      },
      "source": [
        "### 📂 Step 4: Mounts your ```.mgb``` file for one file in TrainFiles."
      ]
    },
    {
      "cell_type": "code",
      "execution_count": null,
      "id": "f207be10",
      "metadata": {},
      "outputs": [],
      "source": [
        "TRAIN_MGB_PATH = \"Data/Trainfiles\"\n",
        "TEST_MGB_PATH = \"Data/Testfiles\"\n",
        "TRAIN_FASTQ_PATH = \"Data/TrainFastQ\"\n",
        "TEST_FASTQ_PATH = \"Data/TestFastQ\"\n",
        "\n",
        "os.makedirs(TRAIN_FASTQ_PATH, exist_ok=True)\n",
        "os.makedirs(TEST_FASTQ_PATH, exist_ok=True)"
      ]
    },
    {
      "cell_type": "code",
      "execution_count": null,
      "id": "783c14b1-26b0-49a4-ba6d-58cda5fad195",
      "metadata": {
        "id": "783c14b1-26b0-49a4-ba6d-58cda5fad195",
        "outputId": "95bf16ac-38de-46ba-a564-ac0ac2803878"
      },
      "outputs": [
        {
          "name": "stdout",
          "output_type": "stream",
          "text": [
            "📁 Host path to `.mgb`: f:\\Desktop\\Zindi\\MPEG\\TrainFiles\\ID_AAFNOT.mgb\n",
            "📁 Input directory mounted: f:\\Desktop\\Zindi\\MPEG\\TrainFiles → /input\n",
            "📁 Output directory mounted: f:\\Desktop\\Zindi\\MPEG\\TrainFastQ → /output\n",
            "📦 Container will see: /input/ID_AAFNOT.mgb\n",
            "📄 Output FASTQ: f:\\Desktop\\Zindi\\MPEG\\TrainFastQ\\ID_AAFNOT.fastq\n"
          ]
        }
      ],
      "source": [
        "import os\n",
        "\n",
        "notebook_dir = os.getcwd()\n",
        "\n",
        "# Pick one `.mgb` file from TrainFiles\n",
        "mgb_filename = \"ID_AAFNOT.mgb\"                 # just the file name\n",
        "train_dir = os.path.abspath(TRAIN_MGB_PATH)   # input folder\n",
        "fastq_dir = os.path.abspath(TRAIN_FASTQ_PATH)   # output folder\n",
        "\n",
        "# Paths\n",
        "mgb_file_path = os.path.join(train_dir, mgb_filename)\n",
        "mgb_filename_no_mgb = os.path.splitext(mgb_filename)[0]\n",
        "output_fastq = os.path.join(fastq_dir, f\"{mgb_filename_no_mgb}.fastq\")\n",
        "\n",
        "# Docker mount paths\n",
        "# (we mount both input + output so you get results locally)\n",
        "input_container_dir = \"/input\"\n",
        "output_container_dir = \"/output\"\n",
        "\n",
        "# Show paths\n",
        "print(f\"📁 Host path to `.mgb`: {mgb_file_path}\")\n",
        "print(f\"📁 Input directory mounted: {train_dir} → {input_container_dir}\")\n",
        "print(f\"📁 Output directory mounted: {fastq_dir} → {output_container_dir}\")\n",
        "print(f\"📦 Container will see: {input_container_dir}/{mgb_filename}\")\n",
        "print(f\"📄 Output FASTQ: {output_fastq}\")\n"
      ]
    },
    {
      "cell_type": "markdown",
      "id": "409931dd-d615-456f-bef6-35e8a593b754",
      "metadata": {
        "id": "409931dd-d615-456f-bef6-35e8a593b754"
      },
      "source": [
        "### 🔍 Step 5: Decodes ```.mgb``` to .```fastq``` of that one file."
      ]
    },
    {
      "cell_type": "code",
      "execution_count": null,
      "id": "ac77f66a-a79d-4725-ae94-78c71d0f43b0",
      "metadata": {
        "id": "ac77f66a-a79d-4725-ae94-78c71d0f43b0",
        "outputId": "b8ead1aa-bd4a-49e1-aefb-28ee258d9e07"
      },
      "outputs": [
        {
          "name": "stdout",
          "output_type": "stream",
          "text": [
            "Running: docker run --rm -v f:\\Desktop\\Zindi\\MPEG\\TrainFiles:/input -v f:\\Desktop\\Zindi\\MPEG\\TrainFastQ:/output muefab/genie:latest run -f -i /input/ID_AAFNOT.mgb -o /output/ID_AAFNOT.fastq\n",
            "\n",
            "--- STDOUT ---\n",
            "\n",
            "[INFO,      0.000s, App]:    ______           _\n",
            "[INFO,      0.000s, App]:   / ____/__  ____  (_)__\n",
            "[INFO,      0.000s, App]:  / / __/ _ \\/ __ \\/ / _ \\\n",
            "[INFO,      0.000s, App]: / /_/ /  __/ / / / /  __/\n",
            "[INFO,      0.000s, App]: \\____/\\___/_/ /_/_/\\___/\n",
            "[INFO,      0.000s, App]: Command: /usr/local/bin/genie run -f -i /input/ID_AAFNOT.mgb -o /output/ID_AAFNOT.fastq \n",
            "[INFO,      0.002s, App/Run]: Input file 1: /input/ID_AAFNOT.mgb with size 1.34MiB\n",
            "[INFO,      0.005s, App/Run]: Working directory: /output with 743GiB available\n",
            "[INFO,      0.010s, App/Run]: Output file: /output/ID_AAFNOT.fastq with 743GiB available\n",
            "[INFO,      0.010s, App/Run]: Threads: 24 with 24 supported\n",
            "[INFO,      0.011s, Spring]: Temporary directory: /output/tmp.U1xdED8xUf/\n",
            "[INFO,      0.011s, Spring]: Temporary directory: /output/tmp.x2PbhiHRrj/\n",
            "[INFO,      0.013s, Mgb]: Found PS 0...\n",
            "[INFO,      0.024s, Mgb]: AU 0: class U, 42840 records (Global Assembly)\n",
            "[INFO,      0.024s, Mgb]: Progress: 5% of file read\n",
            "[INFO,      0.024s, Mgb]: Progress: 10% of file read\n",
            "[INFO,      0.024s, Mgb]: Progress: 15% of file read\n",
            "[INFO,      0.024s, Mgb]: Progress: 20% of file read\n",
            "[INFO,      0.024s, Mgb]: Progress: 25% of file read\n",
            "[INFO,      0.024s, Mgb]: Progress: 30% of file read\n",
            "[INFO,      0.024s, Mgb]: Progress: 35% of file read\n",
            "[INFO,      0.024s, Mgb]: Progress: 40% of file read\n",
            "[INFO,      0.024s, Mgb]: Progress: 45% of file read\n",
            "[INFO,      0.024s, Mgb]: Progress: 50% of file read\n",
            "[INFO,      0.024s, Mgb]: Progress: 55% of file read\n",
            "[INFO,      0.024s, Mgb]: Progress: 60% of file read\n",
            "[INFO,      0.024s, Mgb]: Progress: 65% of file read\n",
            "[INFO,      0.024s, Mgb]: Progress: 70% of file read\n",
            "[INFO,      0.024s, Mgb]: Progress: 75% of file read\n",
            "[INFO,      0.024s, Mgb]: Progress: 80% of file read\n",
            "[INFO,      0.024s, Mgb]: Progress: 85% of file read\n",
            "[INFO,      0.024s, Mgb]: Progress: 90% of file read\n",
            "[INFO,      0.024s, Mgb]: Progress: 95% of file read\n",
            "[INFO,      1.568s, Stats]: size-fastq-name                         sum: 2793044         \n",
            "[INFO,      1.568s, Stats]: size-fastq-quality                      sum: 5333580         \n",
            "[INFO,      1.568s, Stats]: size-fastq-sequence                     sum: 5333580         \n",
            "[INFO,      1.568s, Stats]: size-fastq-total                        sum: 13460204        \n",
            "[INFO,      1.568s, Stats]: size-zstd-mmpos-position-comp           sum: 19097           \n",
            "[INFO,      1.568s, Stats]: size-zstd-mmpos-position-raw            sum: 252560          \n",
            "[INFO,      1.568s, Stats]: size-zstd-mmpos-terminator-comp         sum: 6147            \n",
            "[INFO,      1.568s, Stats]: size-zstd-mmpos-terminator-raw          sum: 36776           \n",
            "[INFO,      1.568s, Stats]: size-zstd-mmtype-substitution-comp      sum: 5220            \n",
            "[INFO,      1.568s, Stats]: size-zstd-mmtype-substitution-raw       sum: 15785           \n",
            "[INFO,      1.568s, Stats]: size-zstd-mmtype-type-comp              sum: 19              \n",
            "[INFO,      1.568s, Stats]: size-zstd-mmtype-type-raw               sum: 15785           \n",
            "[INFO,      1.568s, Stats]: size-zstd-pair-decoding_case-comp       sum: 159             \n",
            "[INFO,      1.568s, Stats]: size-zstd-pair-decoding_case-raw        sum: 21454           \n",
            "[INFO,      1.568s, Stats]: size-zstd-pair-r1_split-comp            sum: 116             \n",
            "[INFO,      1.568s, Stats]: size-zstd-pair-r1_split-raw             sum: 544             \n",
            "[INFO,      1.568s, Stats]: size-zstd-pair-r2_split-comp            sum: 98              \n",
            "[INFO,      1.568s, Stats]: size-zstd-pair-r2_split-raw             sum: 544             \n",
            "[INFO,      1.568s, Stats]: size-zstd-pair-same_rec-comp            sum: 4570            \n",
            "[INFO,      1.568s, Stats]: size-zstd-pair-same_rec-raw             sum: 85544           \n",
            "[INFO,      1.568s, Stats]: size-zstd-pos-first-comp                sum: 269             \n",
            "[INFO,      1.568s, Stats]: size-zstd-pos-first-raw                 sum: 343264          \n",
            "[INFO,      1.568s, Stats]: size-zstd-qv-steps_0-comp               sum: 1186487         \n",
            "[INFO,      1.568s, Stats]: size-zstd-qv-steps_0-raw                sum: 5333580         \n",
            "[INFO,      1.568s, Stats]: size-zstd-rcomp-rcomp-comp              sum: 20              \n",
            "[INFO,      1.568s, Stats]: size-zstd-rcomp-rcomp-raw               sum: 42840           \n",
            "[INFO,      1.568s, Stats]: size-zstd-rlen-rlen-comp                sum: 242             \n",
            "[INFO,      1.568s, Stats]: size-zstd-rlen-rlen-raw                 sum: 686000          \n",
            "[INFO,      1.568s, Stats]: size-zstd-rname-comp                    sum: 182703          \n",
            "[INFO,      1.568s, Stats]: size-zstd-rname-raw                     sum: 1420188         \n",
            "[INFO,      1.568s, Stats]: size-zstd-rtype-rtype-comp              sum: 3820            \n",
            "[INFO,      1.568s, Stats]: size-zstd-rtype-rtype-raw               sum: 21489           \n",
            "[INFO,      1.568s, Stats]: size-zstd-total-comp                    sum: 1411238         \n",
            "[INFO,      1.568s, Stats]: size-zstd-total-raw                     sum: 8296894         \n",
            "[INFO,      1.568s, Stats]: size-zstd-ureads-ureads-comp            sum: 2271            \n",
            "[INFO,      1.568s, Stats]: size-zstd-ureads-ureads-raw             sum: 20541           \n",
            "[INFO,      1.568s, Stats]: time-fastq-export                       sum: 1.355000        \n",
            "[INFO,      1.568s, Stats]: time-namewriteout                       sum: 0.013000        \n",
            "[INFO,      1.568s, Stats]: time-qv-calq                            sum: 0.047000        \n",
            "[INFO,      1.568s, Stats]: time-spring-decoder                     sum: 0.043000        \n",
            "[INFO,      1.568s, Stats]: time-wallclock                          sum: 1.558000        \n",
            "[INFO,      1.568s, Stats]: time-zstd                               sum: 0.009000        \n",
            "\n"
          ]
        }
      ],
      "source": [
        "import os\n",
        "import subprocess\n",
        "\n",
        "def inspect_mgb_structure(mgb_filename):\n",
        "    # Absolute paths for mounting\n",
        "    train_dir = os.path.abspath(TRAIN_MGB_PATH)\n",
        "    fastq_dir = os.path.abspath(TRAIN_FASTQ_PATH)\n",
        "\n",
        "    # File names\n",
        "    mgb_filename_no_mgb = os.path.splitext(mgb_filename)[0]\n",
        "\n",
        "    # Container paths\n",
        "    input_container_dir=  \"/input\"\n",
        "    output_container_dir = \"/output\"\n",
        "\n",
        "    command = [\n",
        "        \"docker\", \"run\", \"--rm\",\n",
        "        \"-v\", f\"{train_dir}:{input_container_dir}\",\n",
        "        \"-v\", f\"{fastq_dir}:{output_container_dir}\",\n",
        "        \"muefab/genie:latest\", \"run\",\n",
        "        \"-f\",\n",
        "        \"-i\", f\"{input_container_dir}/{mgb_filename}\",\n",
        "        \"-o\", f\"{output_container_dir}/{mgb_filename_no_mgb}.fastq\"\n",
        "    ]\n",
        "\n",
        "    print(\"Running:\", \" \".join(command))\n",
        "    result = subprocess.run(command, capture_output=True, text=True)\n",
        "    print(\"\\n--- STDOUT ---\\n\")\n",
        "    print(result.stdout)\n",
        "    if result.stderr:\n",
        "        print(\"\\n--- STDERR ---\\n\")\n",
        "        print(result.stderr)\n",
        "\n",
        "# Example call\n",
        "inspect_mgb_structure(\"ID_AAFNOT.mgb\")\n"
      ]
    },
    {
      "cell_type": "markdown",
      "id": "f7794839",
      "metadata": {},
      "source": [
        "### Process all of them"
      ]
    },
    {
      "cell_type": "code",
      "execution_count": null,
      "id": "f560782a",
      "metadata": {},
      "outputs": [
        {
          "name": "stdout",
          "output_type": "stream",
          "text": [
            "\n",
            "🔍 Found 2901 .mgb files in f:\\Desktop\\Zindi\\MPEG\\TrainFiles\n"
          ]
        },
        {
          "name": "stderr",
          "output_type": "stream",
          "text": [
            "Decoding TrainFiles:   2%|▏         | 72/2901 [00:00<00:03, 717.15it/s]"
          ]
        },
        {
          "name": "stdout",
          "output_type": "stream",
          "text": [
            "⏩ Skipping ID_AAFNOT.mgb, already decoded\n",
            "⏩ Skipping ID_AAXPTO.mgb, already decoded\n",
            "⏩ Skipping ID_AAYKAN.mgb, already decoded\n",
            "⏩ Skipping ID_ABEZNS.mgb, already decoded\n",
            "⏩ Skipping ID_ABFFLP.mgb, already decoded\n",
            "⏩ Skipping ID_ABFQPG.mgb, already decoded\n",
            "⏩ Skipping ID_ABMLPB.mgb, already decoded\n",
            "⏩ Skipping ID_ABOEMW.mgb, already decoded\n",
            "⏩ Skipping ID_ABRMNZ.mgb, already decoded\n",
            "⏩ Skipping ID_ABROLI.mgb, already decoded\n",
            "⏩ Skipping ID_ABYEPC.mgb, already decoded\n",
            "⏩ Skipping ID_ABYUSV.mgb, already decoded\n",
            "⏩ Skipping ID_ABZIIM.mgb, already decoded\n",
            "⏩ Skipping ID_ACDYOS.mgb, already decoded\n",
            "⏩ Skipping ID_ACFOIY.mgb, already decoded\n",
            "⏩ Skipping ID_ACKYNO.mgb, already decoded\n",
            "⏩ Skipping ID_ACNBRX.mgb, already decoded\n",
            "⏩ Skipping ID_ACPNZE.mgb, already decoded\n",
            "⏩ Skipping ID_ACSAGK.mgb, already decoded\n",
            "⏩ Skipping ID_ACWUII.mgb, already decoded\n",
            "⏩ Skipping ID_ADDBVX.mgb, already decoded\n",
            "⏩ Skipping ID_ADGTHC.mgb, already decoded\n",
            "⏩ Skipping ID_AEHLIF.mgb, already decoded\n",
            "⏩ Skipping ID_AEWEDE.mgb, already decoded\n",
            "⏩ Skipping ID_AFDWVD.mgb, already decoded\n",
            "⏩ Skipping ID_AFHPCO.mgb, already decoded\n",
            "⏩ Skipping ID_AFZILT.mgb, already decoded\n",
            "⏩ Skipping ID_AGAGLA.mgb, already decoded\n",
            "⏩ Skipping ID_AGQNUI.mgb, already decoded\n",
            "⏩ Skipping ID_AGXZQZ.mgb, already decoded\n",
            "⏩ Skipping ID_AHFGJR.mgb, already decoded\n",
            "⏩ Skipping ID_AHHREZ.mgb, already decoded\n",
            "⏩ Skipping ID_AHKUAJ.mgb, already decoded\n",
            "⏩ Skipping ID_AHLLIA.mgb, already decoded\n",
            "⏩ Skipping ID_AHRTSW.mgb, already decoded\n",
            "⏩ Skipping ID_AIGSFE.mgb, already decoded\n",
            "⏩ Skipping ID_AIJXHS.mgb, already decoded\n",
            "⏩ Skipping ID_AILQVW.mgb, already decoded\n",
            "⏩ Skipping ID_AIUTRN.mgb, already decoded\n",
            "⏩ Skipping ID_AIUTYM.mgb, already decoded\n",
            "⏩ Skipping ID_AIZFSP.mgb, already decoded\n",
            "⏩ Skipping ID_AJBMTW.mgb, already decoded\n",
            "⏩ Skipping ID_AJCSAH.mgb, already decoded\n",
            "⏩ Skipping ID_AJNJUL.mgb, already decoded\n",
            "⏩ Skipping ID_AJSRSU.mgb, already decoded\n",
            "⏩ Skipping ID_AKEPQD.mgb, already decoded\n",
            "⏩ Skipping ID_AKNECU.mgb, already decoded\n",
            "⏩ Skipping ID_AKOUSJ.mgb, already decoded\n",
            "⏩ Skipping ID_AKSAFQ.mgb, already decoded\n",
            "⏩ Skipping ID_ALHJLQ.mgb, already decoded\n",
            "⏩ Skipping ID_ALJECR.mgb, already decoded\n",
            "⏩ Skipping ID_ALSOFJ.mgb, already decoded\n",
            "⏩ Skipping ID_ALXHDM.mgb, already decoded\n",
            "⏩ Skipping ID_ALXTCO.mgb, already decoded\n",
            "⏩ Skipping ID_AMDDPN.mgb, already decoded\n",
            "⏩ Skipping ID_AMHXQL.mgb, already decoded\n",
            "⏩ Skipping ID_AMMKIS.mgb, already decoded\n",
            "⏩ Skipping ID_AMNOGS.mgb, already decoded\n",
            "⏩ Skipping ID_AMQVHE.mgb, already decoded\n",
            "⏩ Skipping ID_AMXBLL.mgb, already decoded\n",
            "⏩ Skipping ID_ANGJFJ.mgb, already decoded\n",
            "⏩ Skipping ID_ANRCHW.mgb, already decoded\n",
            "⏩ Skipping ID_AOANMO.mgb, already decoded\n",
            "⏩ Skipping ID_AOCWNX.mgb, already decoded\n",
            "⏩ Skipping ID_AOFWAD.mgb, already decoded\n",
            "⏩ Skipping ID_AOITMX.mgb, already decoded\n",
            "⏩ Skipping ID_AOKDRE.mgb, already decoded\n",
            "⏩ Skipping ID_AOLYKG.mgb, already decoded\n",
            "⏩ Skipping ID_AOOKYO.mgb, already decoded\n",
            "⏩ Skipping ID_AOSCCM.mgb, already decoded\n",
            "⏩ Skipping ID_AOTUJU.mgb, already decoded\n",
            "⏩ Skipping ID_APSXJV.mgb, already decoded\n",
            "⏩ Skipping ID_AQHGSF.mgb, already decoded\n",
            "⏩ Skipping ID_AQLAFV.mgb, already decoded\n",
            "⏩ Skipping ID_AQLRBI.mgb, already decoded\n",
            "⏩ Skipping ID_AQUPQC.mgb, already decoded\n",
            "⏩ Skipping ID_AQZMOJ.mgb, already decoded\n",
            "⏩ Skipping ID_ARKGAH.mgb, already decoded\n",
            "⏩ Skipping ID_ARRIGW.mgb, already decoded\n",
            "⏩ Skipping ID_ARRPME.mgb, already decoded\n",
            "⏩ Skipping ID_ARTGPP.mgb, already decoded\n",
            "⏩ Skipping ID_ARUNMM.mgb, already decoded\n",
            "⏩ Skipping ID_ARYFGN.mgb, already decoded\n",
            "⏩ Skipping ID_ASOJIQ.mgb, already decoded\n",
            "⏩ Skipping ID_ASOYXX.mgb, already decoded\n",
            "⏩ Skipping ID_ASUWQJ.mgb, already decoded\n",
            "⏩ Skipping ID_ASZQOD.mgb, already decoded\n",
            "⏩ Skipping ID_ATBWZJ.mgb, already decoded\n",
            "⏩ Skipping ID_ATCYGQ.mgb, already decoded\n",
            "⏩ Skipping ID_ATOCRR.mgb, already decoded\n",
            "⏩ Skipping ID_ATQHPY.mgb, already decoded\n",
            "⏩ Skipping ID_ATRUUE.mgb, already decoded\n",
            "⏩ Skipping ID_ATSANN.mgb, already decoded\n",
            "⏩ Skipping ID_AVLZNJ.mgb, already decoded\n",
            "⏩ Skipping ID_AVNKSZ.mgb, already decoded\n",
            "⏩ Skipping ID_AVSCXA.mgb, already decoded\n",
            "⏩ Skipping ID_AWIWMI.mgb, already decoded\n",
            "⏩ Skipping ID_AWMVWH.mgb, already decoded\n",
            "⏩ Skipping ID_AWOZGF.mgb, already decoded\n",
            "⏩ Skipping ID_AWPWTE.mgb, already decoded\n",
            "⏩ Skipping ID_AXPAZY.mgb, already decoded\n"
          ]
        },
        {
          "name": "stderr",
          "output_type": "stream",
          "text": [
            "Decoding TrainFiles:   2%|▏         | 72/2901 [00:00<00:03, 717.15it/s]"
          ]
        },
        {
          "name": "stdout",
          "output_type": "stream",
          "text": [
            "⏩ Skipping ID_AXRWDA.mgb, already decoded\n",
            "⏩ Skipping ID_AXRZES.mgb, already decoded\n",
            "⏩ Skipping ID_AXUMEQ.mgb, already decoded\n",
            "⏩ Skipping ID_AXYRUO.mgb, already decoded\n",
            "⏩ Skipping ID_AYCGRQ.mgb, already decoded\n",
            "⏩ Skipping ID_AYEWPT.mgb, already decoded\n",
            "⏩ Skipping ID_AYHIBL.mgb, already decoded\n",
            "⏩ Skipping ID_AYHLGO.mgb, already decoded\n",
            "⏩ Skipping ID_AYHRMP.mgb, already decoded\n",
            "⏩ Skipping ID_AYNMSB.mgb, already decoded\n",
            "⏩ Skipping ID_AYNXMD.mgb, already decoded\n",
            "⏩ Skipping ID_AYOTKS.mgb, already decoded\n",
            "⏩ Skipping ID_AYPACN.mgb, already decoded\n",
            "⏩ Skipping ID_AYWJHN.mgb, already decoded\n",
            "⏩ Skipping ID_AYWSLB.mgb, already decoded\n",
            "⏩ Skipping ID_AZAARB.mgb, already decoded\n",
            "⏩ Skipping ID_AZZSMR.mgb, already decoded\n",
            "⏩ Skipping ID_BAMZGX.mgb, already decoded\n",
            "⏩ Skipping ID_BASXMJ.mgb, already decoded\n",
            "⏩ Skipping ID_BATLNN.mgb, already decoded\n",
            "⏩ Skipping ID_BAYRPN.mgb, already decoded\n",
            "⏩ Skipping ID_BAZXSK.mgb, already decoded\n"
          ]
        },
        {
          "name": "stderr",
          "output_type": "stream",
          "text": [
            "Decoding TrainFiles:   2%|▏         | 72/2901 [00:00<00:03, 717.15it/s]"
          ]
        },
        {
          "name": "stdout",
          "output_type": "stream",
          "text": [
            "⏩ Skipping ID_BBNWLY.mgb, already decoded\n",
            "⏩ Skipping ID_BBNYMC.mgb, already decoded\n",
            "⏩ Skipping ID_BBPEYX.mgb, already decoded\n",
            "⏩ Skipping ID_BBUIXC.mgb, already decoded\n",
            "⏩ Skipping ID_BBYKSG.mgb, already decoded\n",
            "⏩ Skipping ID_BCDPBO.mgb, already decoded\n",
            "⏩ Skipping ID_BCHMUF.mgb, already decoded\n",
            "⏩ Skipping ID_BCOHGF.mgb, already decoded\n",
            "⏩ Skipping ID_BCWAFO.mgb, already decoded\n",
            "⏩ Skipping ID_BCYOZW.mgb, already decoded\n",
            "⏩ Skipping ID_BDIHFC.mgb, already decoded\n",
            "⏩ Skipping ID_BDKLOC.mgb, already decoded\n"
          ]
        },
        {
          "name": "stderr",
          "output_type": "stream",
          "text": [
            "                                                                        \r"
          ]
        },
        {
          "name": "stdout",
          "output_type": "stream",
          "text": [
            "⏩ Skipping ID_BDMAFZ.mgb, already decoded\n",
            "⏩ Skipping ID_BDPILQ.mgb, already decoded\n",
            "⏩ Skipping ID_BDUKPO.mgb, already decoded\n",
            "⏩ Skipping ID_BDXMPE.mgb, already decoded\n",
            "⏩ Skipping ID_BEKTVZ.mgb, already decoded\n",
            "⏩ Skipping ID_BFDOIX.mgb, already decoded\n",
            "⏩ Skipping ID_BFHQLE.mgb, already decoded\n",
            "⏩ Skipping ID_BFJJUV.mgb, already decoded\n",
            "⏩ Skipping ID_BFPKJO.mgb, already decoded\n",
            "⏩ Skipping ID_BFZKGB.mgb, already decoded\n",
            "⏩ Skipping ID_BFZNLF.mgb, already decoded\n",
            "⏩ Skipping ID_BGVFRI.mgb, already decoded\n",
            "⏩ Skipping ID_BGZYQJ.mgb, already decoded\n",
            "⏩ Skipping ID_BHBSOA.mgb, already decoded\n",
            "⏩ Skipping ID_BHYLYB.mgb, already decoded\n",
            "⏩ Skipping ID_BIGCDY.mgb, already decoded\n",
            "⏩ Skipping ID_BILXIA.mgb, already decoded\n",
            "⏩ Skipping ID_BIRZSY.mgb, already decoded\n",
            "⏩ Skipping ID_BJABXF.mgb, already decoded\n",
            "⏩ Skipping ID_BJBUOY.mgb, already decoded\n",
            "⏩ Skipping ID_BJCMPA.mgb, already decoded\n",
            "⏩ Skipping ID_BJEDLO.mgb, already decoded\n",
            "⏩ Skipping ID_BJGGSH.mgb, already decoded\n",
            "⏩ Skipping ID_BJQEIQ.mgb, already decoded\n",
            "⏩ Skipping ID_BJXLXW.mgb, already decoded\n",
            "⏩ Skipping ID_BKIANT.mgb, already decoded\n",
            "⏩ Skipping ID_BKVWXN.mgb, already decoded\n",
            "⏩ Skipping ID_BKYBBG.mgb, already decoded\n",
            "⏩ Skipping ID_BLAFZC.mgb, already decoded\n",
            "⏩ Skipping ID_BLAIZT.mgb, already decoded\n",
            "⏩ Skipping ID_BLDEBH.mgb, already decoded\n",
            "⏩ Skipping ID_BLDNGS.mgb, already decoded\n",
            "⏩ Skipping ID_BLQETH.mgb, already decoded\n",
            "⏩ Skipping ID_BLTYLD.mgb, already decoded\n",
            "⏩ Skipping ID_BMESXF.mgb, already decoded\n",
            "⏩ Skipping ID_BMFRRV.mgb, already decoded\n",
            "⏩ Skipping ID_BMLKLW.mgb, already decoded\n",
            "⏩ Skipping ID_BMMZSJ.mgb, already decoded\n",
            "⏩ Skipping ID_BMWGUY.mgb, already decoded\n",
            "⏩ Skipping ID_BMZNEJ.mgb, already decoded\n",
            "⏩ Skipping ID_BNDJRR.mgb, already decoded\n",
            "⏩ Skipping ID_BNDVKB.mgb, already decoded\n",
            "⏩ Skipping ID_BNFDPZ.mgb, already decoded\n",
            "⏩ Skipping ID_BNKLCS.mgb, already decoded\n",
            "⏩ Skipping ID_BNTGTO.mgb, already decoded\n",
            "⏩ Skipping ID_BOFMTL.mgb, already decoded\n",
            "⏩ Skipping ID_BOMJBA.mgb, already decoded\n",
            "⏩ Skipping ID_BOQBWG.mgb, already decoded\n",
            "⏩ Skipping ID_BORUEU.mgb, already decoded\n",
            "⏩ Skipping ID_BOWURK.mgb, already decoded\n",
            "⏩ Skipping ID_BPQBPM.mgb, already decoded\n",
            "⏩ Skipping ID_BPTILU.mgb, already decoded\n",
            "⏩ Skipping ID_BPYARX.mgb, already decoded\n",
            "⏩ Skipping ID_BQCEWH.mgb, already decoded\n",
            "⏩ Skipping ID_BQDHRK.mgb, already decoded\n",
            "⏩ Skipping ID_BQKGSR.mgb, already decoded\n",
            "⏩ Skipping ID_BQKLSM.mgb, already decoded\n",
            "⏩ Skipping ID_BQLRYY.mgb, already decoded\n",
            "⏩ Skipping ID_BQMYFD.mgb, already decoded\n",
            "⏩ Skipping ID_BQOEKK.mgb, already decoded\n",
            "⏩ Skipping ID_BQQKYL.mgb, already decoded\n",
            "⏩ Skipping ID_BQWBQQ.mgb, already decoded\n",
            "⏩ Skipping ID_BQYGLN.mgb, already decoded\n",
            "⏩ Skipping ID_BRRBKW.mgb, already decoded\n",
            "⏩ Skipping ID_BRSWSX.mgb, already decoded\n",
            "⏩ Skipping ID_BSFQUS.mgb, already decoded\n",
            "⏩ Skipping ID_BSMPUS.mgb, already decoded\n",
            "⏩ Skipping ID_BSPPPF.mgb, already decoded\n",
            "⏩ Skipping ID_BSQXKA.mgb, already decoded\n",
            "⏩ Skipping ID_BSTIUS.mgb, already decoded\n",
            "⏩ Skipping ID_BSUHDL.mgb, already decoded\n",
            "⏩ Skipping ID_BTHMMQ.mgb, already decoded\n",
            "⏩ Skipping ID_BTJTGC.mgb, already decoded\n",
            "⏩ Skipping ID_BTPNJQ.mgb, already decoded\n",
            "⏩ Skipping ID_BUDNOC.mgb, already decoded\n",
            "⏩ Skipping ID_BUGOSE.mgb, already decoded\n",
            "⏩ Skipping ID_BUIREU.mgb, already decoded\n",
            "⏩ Skipping ID_BUNZTA.mgb, already decoded\n",
            "⏩ Skipping ID_BUPXZV.mgb, already decoded\n",
            "⏩ Skipping ID_BUVRWB.mgb, already decoded\n",
            "⏩ Skipping ID_BVFLOS.mgb, already decoded\n",
            "⏩ Skipping ID_BVLVPJ.mgb, already decoded\n",
            "⏩ Skipping ID_BVNPOC.mgb, already decoded\n",
            "⏩ Skipping ID_BVTAEF.mgb, already decoded\n",
            "⏩ Skipping ID_BVYIZG.mgb, already decoded\n",
            "⏩ Skipping ID_BWAYOW.mgb, already decoded\n",
            "⏩ Skipping ID_BWDIKA.mgb, already decoded\n",
            "⏩ Skipping ID_BWENZR.mgb, already decoded\n",
            "⏩ Skipping ID_BWEZUZ.mgb, already decoded\n",
            "⏩ Skipping ID_BWFRRW.mgb, already decoded\n",
            "⏩ Skipping ID_BWSTNB.mgb, already decoded\n",
            "⏩ Skipping ID_BWXHGA.mgb, already decoded\n",
            "⏩ Skipping ID_BXGOJU.mgb, already decoded\n",
            "⏩ Skipping ID_BXIDPN.mgb, already decoded\n",
            "⏩ Skipping ID_BXTZQR.mgb, already decoded\n",
            "⏩ Skipping ID_BXUISC.mgb, already decoded\n",
            "⏩ Skipping ID_BXUSIL.mgb, already decoded\n",
            "⏩ Skipping ID_BXXAIZ.mgb, already decoded\n",
            "⏩ Skipping ID_BXXFFI.mgb, already decoded\n"
          ]
        },
        {
          "name": "stderr",
          "output_type": "stream",
          "text": [
            "Decoding TrainFiles:   7%|▋         | 217/2901 [00:00<00:03, 715.05it/s]"
          ]
        },
        {
          "name": "stdout",
          "output_type": "stream",
          "text": [
            "⏩ Skipping ID_BYADQR.mgb, already decoded\n",
            "⏩ Skipping ID_BYBBFU.mgb, already decoded\n",
            "⏩ Skipping ID_BYBDDN.mgb, already decoded\n",
            "⏩ Skipping ID_BYFKYS.mgb, already decoded\n",
            "⏩ Skipping ID_BYGTOX.mgb, already decoded\n",
            "⏩ Skipping ID_BYIDTS.mgb, already decoded\n",
            "⏩ Skipping ID_BYQAWV.mgb, already decoded\n",
            "⏩ Skipping ID_BYTILZ.mgb, already decoded\n",
            "⏩ Skipping ID_BYUSVC.mgb, already decoded\n",
            "⏩ Skipping ID_BYXUVL.mgb, already decoded\n",
            "⏩ Skipping ID_BZAEKX.mgb, already decoded\n",
            "⏩ Skipping ID_BZLNAL.mgb, already decoded\n",
            "⏩ Skipping ID_BZLYBW.mgb, already decoded\n",
            "⏩ Skipping ID_CABEZP.mgb, already decoded\n",
            "⏩ Skipping ID_CAMZZK.mgb, already decoded\n",
            "⏩ Skipping ID_CAQGKS.mgb, already decoded\n",
            "⏩ Skipping ID_CAVMMY.mgb, already decoded\n",
            "⏩ Skipping ID_CBCIXT.mgb, already decoded\n",
            "⏩ Skipping ID_CBEPXX.mgb, already decoded\n",
            "⏩ Skipping ID_CBIXKY.mgb, already decoded\n",
            "⏩ Skipping ID_CBIYFC.mgb, already decoded\n"
          ]
        },
        {
          "name": "stderr",
          "output_type": "stream",
          "text": [
            "Decoding TrainFiles:   7%|▋         | 217/2901 [00:00<00:03, 715.05it/s]"
          ]
        },
        {
          "name": "stdout",
          "output_type": "stream",
          "text": [
            "⏩ Skipping ID_CBOALL.mgb, already decoded\n",
            "⏩ Skipping ID_CBUHYF.mgb, already decoded\n",
            "⏩ Skipping ID_CBVUCG.mgb, already decoded\n",
            "⏩ Skipping ID_CBVZUG.mgb, already decoded\n",
            "⏩ Skipping ID_CBYCRL.mgb, already decoded\n",
            "⏩ Skipping ID_CCJFJF.mgb, already decoded\n",
            "⏩ Skipping ID_CCMXHQ.mgb, already decoded\n",
            "⏩ Skipping ID_CCUWGC.mgb, already decoded\n",
            "⏩ Skipping ID_CCXOJL.mgb, already decoded\n",
            "⏩ Skipping ID_CCZQYA.mgb, already decoded\n",
            "⏩ Skipping ID_CDBSEY.mgb, already decoded\n"
          ]
        },
        {
          "name": "stderr",
          "output_type": "stream",
          "text": [
            "Decoding TrainFiles:  12%|█▏        | 359/2901 [00:00<00:03, 688.21it/s]"
          ]
        },
        {
          "name": "stdout",
          "output_type": "stream",
          "text": [
            "⏩ Skipping ID_CDDJVZ.mgb, already decoded\n",
            "⏩ Skipping ID_CDUQDF.mgb, already decoded\n",
            "⏩ Skipping ID_CEFEDI.mgb, already decoded\n",
            "⏩ Skipping ID_CEFFHZ.mgb, already decoded\n",
            "⏩ Skipping ID_CEFQDN.mgb, already decoded\n",
            "⏩ Skipping ID_CEPVCX.mgb, already decoded\n",
            "⏩ Skipping ID_CFFBOX.mgb, already decoded\n",
            "⏩ Skipping ID_CFKXGH.mgb, already decoded\n",
            "⏩ Skipping ID_CFNKVZ.mgb, already decoded\n",
            "⏩ Skipping ID_CFOWCA.mgb, already decoded\n",
            "⏩ Skipping ID_CGISFP.mgb, already decoded\n",
            "⏩ Skipping ID_CGJOKG.mgb, already decoded\n",
            "⏩ Skipping ID_CHATBB.mgb, already decoded\n",
            "⏩ Skipping ID_CHBZIR.mgb, already decoded\n",
            "⏩ Skipping ID_CHKMMC.mgb, already decoded\n",
            "⏩ Skipping ID_CHMRCZ.mgb, already decoded\n",
            "⏩ Skipping ID_CHYNLQ.mgb, already decoded\n",
            "⏩ Skipping ID_CIFVFZ.mgb, already decoded\n",
            "⏩ Skipping ID_CISUFU.mgb, already decoded\n",
            "⏩ Skipping ID_CIVZBZ.mgb, already decoded\n",
            "⏩ Skipping ID_CIYRXW.mgb, already decoded\n",
            "⏩ Skipping ID_CJKSZF.mgb, already decoded\n",
            "⏩ Skipping ID_CJLWBX.mgb, already decoded\n",
            "⏩ Skipping ID_CJMARD.mgb, already decoded\n",
            "⏩ Skipping ID_CJUUTB.mgb, already decoded\n",
            "⏩ Skipping ID_CJWDSQ.mgb, already decoded\n",
            "⏩ Skipping ID_CKARPR.mgb, already decoded\n",
            "⏩ Skipping ID_CKFMXI.mgb, already decoded\n",
            "⏩ Skipping ID_CKMDIW.mgb, already decoded\n",
            "⏩ Skipping ID_CKPEXK.mgb, already decoded\n",
            "⏩ Skipping ID_CKVZNG.mgb, already decoded\n",
            "⏩ Skipping ID_CLAMQX.mgb, already decoded\n",
            "⏩ Skipping ID_CLJFLL.mgb, already decoded\n",
            "⏩ Skipping ID_CLXVDF.mgb, already decoded\n",
            "⏩ Skipping ID_CMAJGS.mgb, already decoded\n",
            "⏩ Skipping ID_CMEXUB.mgb, already decoded\n",
            "⏩ Skipping ID_CMHVQS.mgb, already decoded\n",
            "⏩ Skipping ID_CMPEQT.mgb, already decoded\n",
            "⏩ Skipping ID_CMQPHP.mgb, already decoded\n",
            "⏩ Skipping ID_CMZCYC.mgb, already decoded\n",
            "⏩ Skipping ID_CNBDFU.mgb, already decoded\n",
            "⏩ Skipping ID_CNBVOC.mgb, already decoded\n",
            "⏩ Skipping ID_CNFRRA.mgb, already decoded\n",
            "⏩ Skipping ID_CNIPZX.mgb, already decoded\n",
            "⏩ Skipping ID_CNRAEX.mgb, already decoded\n",
            "⏩ Skipping ID_CNUXSO.mgb, already decoded\n",
            "⏩ Skipping ID_COFTSP.mgb, already decoded\n",
            "⏩ Skipping ID_COGRXF.mgb, already decoded\n",
            "⏩ Skipping ID_COGUSW.mgb, already decoded\n",
            "⏩ Skipping ID_COLRYN.mgb, already decoded\n",
            "⏩ Skipping ID_COMEWW.mgb, already decoded\n",
            "⏩ Skipping ID_COPUFE.mgb, already decoded\n",
            "⏩ Skipping ID_CPEYLN.mgb, already decoded\n",
            "⏩ Skipping ID_CQAKXN.mgb, already decoded\n",
            "⏩ Skipping ID_CQGPNK.mgb, already decoded\n",
            "⏩ Skipping ID_CQIRAJ.mgb, already decoded\n",
            "⏩ Skipping ID_CQPPQL.mgb, already decoded\n",
            "⏩ Skipping ID_CRLCEG.mgb, already decoded\n",
            "⏩ Skipping ID_CRPLCW.mgb, already decoded\n",
            "⏩ Skipping ID_CSAQPN.mgb, already decoded\n",
            "⏩ Skipping ID_CSAWAL.mgb, already decoded\n",
            "⏩ Skipping ID_CSQMZL.mgb, already decoded\n",
            "⏩ Skipping ID_CSZLSG.mgb, already decoded\n",
            "⏩ Skipping ID_CTKKXZ.mgb, already decoded\n",
            "⏩ Skipping ID_CTLUJH.mgb, already decoded\n",
            "⏩ Skipping ID_CUGOSP.mgb, already decoded\n",
            "⏩ Skipping ID_CUVJEW.mgb, already decoded\n",
            "⏩ Skipping ID_CVDANI.mgb, already decoded\n",
            "⏩ Skipping ID_CVDRQB.mgb, already decoded\n",
            "⏩ Skipping ID_CVQKFR.mgb, already decoded\n",
            "⏩ Skipping ID_CVRNPA.mgb, already decoded\n",
            "⏩ Skipping ID_CVRRWM.mgb, already decoded\n",
            "⏩ Skipping ID_CVSQAL.mgb, already decoded\n",
            "⏩ Skipping ID_CVTKBV.mgb, already decoded\n",
            "⏩ Skipping ID_CVXTAJ.mgb, already decoded\n",
            "⏩ Skipping ID_CWEFRZ.mgb, already decoded\n",
            "⏩ Skipping ID_CWGLPS.mgb, already decoded\n",
            "⏩ Skipping ID_CWJNMW.mgb, already decoded\n",
            "⏩ Skipping ID_CWWHCQ.mgb, already decoded\n",
            "⏩ Skipping ID_CXFQBO.mgb, already decoded\n",
            "⏩ Skipping ID_CYCFNA.mgb, already decoded\n",
            "⏩ Skipping ID_CYJYTY.mgb, already decoded\n",
            "⏩ Skipping ID_CYXSBU.mgb, already decoded\n",
            "⏩ Skipping ID_CYXSXV.mgb, already decoded\n",
            "⏩ Skipping ID_CZCTXV.mgb, already decoded\n",
            "⏩ Skipping ID_CZREPA.mgb, already decoded\n",
            "⏩ Skipping ID_CZWYAC.mgb, already decoded\n",
            "⏩ Skipping ID_CZZDZW.mgb, already decoded\n",
            "⏩ Skipping ID_DAAZPM.mgb, already decoded\n",
            "⏩ Skipping ID_DABEIU.mgb, already decoded\n",
            "⏩ Skipping ID_DACVKF.mgb, already decoded\n",
            "⏩ Skipping ID_DAHWLQ.mgb, already decoded\n",
            "⏩ Skipping ID_DAIMPD.mgb, already decoded\n",
            "⏩ Skipping ID_DBMDRE.mgb, already decoded\n"
          ]
        },
        {
          "name": "stderr",
          "output_type": "stream",
          "text": [
            "Decoding TrainFiles:  12%|█▏        | 359/2901 [00:00<00:03, 688.21it/s]"
          ]
        },
        {
          "name": "stdout",
          "output_type": "stream",
          "text": [
            "⏩ Skipping ID_DBONRH.mgb, already decoded\n",
            "⏩ Skipping ID_DBORVZ.mgb, already decoded\n",
            "⏩ Skipping ID_DBRZSV.mgb, already decoded\n",
            "⏩ Skipping ID_DBTOZR.mgb, already decoded\n",
            "⏩ Skipping ID_DCPNAQ.mgb, already decoded\n",
            "⏩ Skipping ID_DCSGGY.mgb, already decoded\n",
            "⏩ Skipping ID_DCXMIR.mgb, already decoded\n",
            "⏩ Skipping ID_DCYFGD.mgb, already decoded\n",
            "⏩ Skipping ID_DCZLYK.mgb, already decoded\n",
            "⏩ Skipping ID_DCZWEX.mgb, already decoded\n",
            "⏩ Skipping ID_DDAAKL.mgb, already decoded\n",
            "⏩ Skipping ID_DDBXLW.mgb, already decoded\n",
            "⏩ Skipping ID_DDEORS.mgb, already decoded\n",
            "⏩ Skipping ID_DDFSGU.mgb, already decoded\n",
            "⏩ Skipping ID_DDHTGO.mgb, already decoded\n",
            "⏩ Skipping ID_DDPTVX.mgb, already decoded\n",
            "⏩ Skipping ID_DDXNFC.mgb, already decoded\n",
            "⏩ Skipping ID_DEEOPS.mgb, already decoded\n",
            "⏩ Skipping ID_DEHQPX.mgb, already decoded\n",
            "⏩ Skipping ID_DEPLTQ.mgb, already decoded\n",
            "⏩ Skipping ID_DEXQHR.mgb, already decoded\n"
          ]
        },
        {
          "name": "stderr",
          "output_type": "stream",
          "text": [
            "Decoding TrainFiles:  12%|█▏        | 359/2901 [00:00<00:03, 688.21it/s]"
          ]
        },
        {
          "name": "stdout",
          "output_type": "stream",
          "text": [
            "⏩ Skipping ID_DFAUOS.mgb, already decoded\n",
            "⏩ Skipping ID_DFINMT.mgb, already decoded\n",
            "⏩ Skipping ID_DFRYTE.mgb, already decoded\n",
            "⏩ Skipping ID_DGBPRY.mgb, already decoded\n",
            "⏩ Skipping ID_DGFBWI.mgb, already decoded\n",
            "⏩ Skipping ID_DGGQCW.mgb, already decoded\n",
            "⏩ Skipping ID_DGVTSK.mgb, already decoded\n",
            "⏩ Skipping ID_DGYWSB.mgb, already decoded\n",
            "⏩ Skipping ID_DHJYME.mgb, already decoded\n",
            "⏩ Skipping ID_DHKWTO.mgb, already decoded\n",
            "⏩ Skipping ID_DHOGEM.mgb, already decoded\n"
          ]
        },
        {
          "name": "stderr",
          "output_type": "stream",
          "text": [
            "                                                                        "
          ]
        },
        {
          "name": "stdout",
          "output_type": "stream",
          "text": [
            "⏩ Skipping ID_DHSUVH.mgb, already decoded\n",
            "⏩ Skipping ID_DIGQNV.mgb, already decoded\n",
            "⏩ Skipping ID_DIQPCS.mgb, already decoded\n",
            "⏩ Skipping ID_DITEVC.mgb, already decoded\n",
            "⏩ Skipping ID_DIXWKV.mgb, already decoded\n",
            "⏩ Skipping ID_DJVEGJ.mgb, already decoded\n",
            "⏩ Skipping ID_DJYPZW.mgb, already decoded\n",
            "⏩ Skipping ID_DJZTZA.mgb, already decoded\n",
            "⏩ Skipping ID_DKDBIW.mgb, already decoded\n",
            "⏩ Skipping ID_DKNVUZ.mgb, already decoded\n",
            "⏩ Skipping ID_DKPBNN.mgb, already decoded\n",
            "⏩ Skipping ID_DKXOVC.mgb, already decoded\n",
            "⏩ Skipping ID_DLVVCV.mgb, already decoded\n",
            "⏩ Skipping ID_DMNCTG.mgb, already decoded\n",
            "⏩ Skipping ID_DMSFGF.mgb, already decoded\n",
            "⏩ Skipping ID_DMYPOS.mgb, already decoded\n",
            "⏩ Skipping ID_DMZRLF.mgb, already decoded\n",
            "⏩ Skipping ID_DNJJLA.mgb, already decoded\n",
            "⏩ Skipping ID_DNNPWN.mgb, already decoded\n",
            "⏩ Skipping ID_DNTCNB.mgb, already decoded\n",
            "⏩ Skipping ID_DNWBTT.mgb, already decoded\n",
            "⏩ Skipping ID_DOCYNQ.mgb, already decoded\n",
            "⏩ Skipping ID_DOFZPC.mgb, already decoded\n",
            "⏩ Skipping ID_DOHOKN.mgb, already decoded\n",
            "⏩ Skipping ID_DPDRLS.mgb, already decoded\n",
            "⏩ Skipping ID_DPEDNC.mgb, already decoded\n",
            "⏩ Skipping ID_DPIFHP.mgb, already decoded\n",
            "⏩ Skipping ID_DPZTFG.mgb, already decoded\n",
            "⏩ Skipping ID_DQELDP.mgb, already decoded\n",
            "⏩ Skipping ID_DQHVGC.mgb, already decoded\n",
            "⏩ Skipping ID_DQJJQJ.mgb, already decoded\n",
            "⏩ Skipping ID_DQKZXE.mgb, already decoded\n",
            "⏩ Skipping ID_DQSGRS.mgb, already decoded\n",
            "⏩ Skipping ID_DQSUYJ.mgb, already decoded\n",
            "⏩ Skipping ID_DRFAMX.mgb, already decoded\n",
            "⏩ Skipping ID_DRJQHV.mgb, already decoded\n",
            "⏩ Skipping ID_DRNQWD.mgb, already decoded\n",
            "⏩ Skipping ID_DRRMAD.mgb, already decoded\n",
            "⏩ Skipping ID_DRXXEF.mgb, already decoded\n",
            "⏩ Skipping ID_DSAWAB.mgb, already decoded\n",
            "⏩ Skipping ID_DSRASP.mgb, already decoded\n",
            "⏩ Skipping ID_DSUENO.mgb, already decoded\n",
            "⏩ Skipping ID_DSVELY.mgb, already decoded\n",
            "⏩ Skipping ID_DTCCPX.mgb, already decoded\n",
            "⏩ Skipping ID_DUFHFT.mgb, already decoded\n",
            "⏩ Skipping ID_DUNUDO.mgb, already decoded\n",
            "⏩ Skipping ID_DVJULK.mgb, already decoded\n",
            "⏩ Skipping ID_DVMUNS.mgb, already decoded\n",
            "⏩ Skipping ID_DVRMHL.mgb, already decoded\n",
            "⏩ Skipping ID_DVSPLI.mgb, already decoded\n",
            "⏩ Skipping ID_DVVFPM.mgb, already decoded\n",
            "⏩ Skipping ID_DWGIVD.mgb, already decoded\n",
            "⏩ Skipping ID_DWGTMB.mgb, already decoded\n",
            "⏩ Skipping ID_DWOULV.mgb, already decoded\n",
            "⏩ Skipping ID_DWQKNK.mgb, already decoded\n",
            "⏩ Skipping ID_DWSEHL.mgb, already decoded\n",
            "⏩ Skipping ID_DWTNBS.mgb, already decoded\n",
            "⏩ Skipping ID_DWVFXS.mgb, already decoded\n",
            "⏩ Skipping ID_DXAHRJ.mgb, already decoded\n",
            "⏩ Skipping ID_DXEKKM.mgb, already decoded\n",
            "⏩ Skipping ID_DXGSNJ.mgb, already decoded\n",
            "⏩ Skipping ID_DXLBDU.mgb, already decoded\n",
            "⏩ Skipping ID_DXQFHN.mgb, already decoded\n",
            "⏩ Skipping ID_DXXDPY.mgb, already decoded\n",
            "⏩ Skipping ID_DXXSBN.mgb, already decoded\n",
            "⏩ Skipping ID_DYJVMA.mgb, already decoded\n",
            "⏩ Skipping ID_DYOJPK.mgb, already decoded\n",
            "⏩ Skipping ID_DYRSAU.mgb, already decoded\n",
            "⏩ Skipping ID_DZBRQT.mgb, already decoded\n",
            "⏩ Skipping ID_DZQLHM.mgb, already decoded\n",
            "⏩ Skipping ID_EAHSDZ.mgb, already decoded\n",
            "⏩ Skipping ID_EALMKI.mgb, already decoded\n",
            "⏩ Skipping ID_EAMLGJ.mgb, already decoded\n",
            "⏩ Skipping ID_EASEGB.mgb, already decoded\n",
            "⏩ Skipping ID_EAUUBU.mgb, already decoded\n",
            "⏩ Skipping ID_EAYVHY.mgb, already decoded\n",
            "⏩ Skipping ID_EAZIWC.mgb, already decoded\n",
            "⏩ Skipping ID_EBHRVE.mgb, already decoded\n",
            "⏩ Skipping ID_EBHXEE.mgb, already decoded\n",
            "⏩ Skipping ID_EBJBKI.mgb, already decoded\n",
            "⏩ Skipping ID_EBMDBW.mgb, already decoded\n",
            "⏩ Skipping ID_EBXBLO.mgb, already decoded\n",
            "⏩ Skipping ID_EBXZDT.mgb, already decoded\n",
            "⏩ Skipping ID_ECCGCP.mgb, already decoded\n",
            "⏩ Skipping ID_ECEDQO.mgb, already decoded\n",
            "⏩ Skipping ID_ECXCYD.mgb, already decoded\n",
            "⏩ Skipping ID_EDJGWX.mgb, already decoded\n",
            "⏩ Skipping ID_EDRXXQ.mgb, already decoded\n",
            "⏩ Skipping ID_EDSZLU.mgb, already decoded\n",
            "⏩ Skipping ID_EDYHRU.mgb, already decoded\n",
            "⏩ Skipping ID_EEBJLN.mgb, already decoded\n",
            "⏩ Skipping ID_EEEMQC.mgb, already decoded\n",
            "⏩ Skipping ID_EEYIEW.mgb, already decoded\n",
            "⏩ Skipping ID_EFHTFR.mgb, already decoded\n",
            "⏩ Skipping ID_EFIXCE.mgb, already decoded\n",
            "⏩ Skipping ID_EFPRGI.mgb, already decoded\n",
            "⏩ Skipping ID_EGAWZG.mgb, already decoded\n",
            "⏩ Skipping ID_EGDJKU.mgb, already decoded\n",
            "⏩ Skipping ID_EGGOJH.mgb, already decoded\n"
          ]
        },
        {
          "name": "stderr",
          "output_type": "stream",
          "text": [
            "Decoding TrainFiles:  17%|█▋        | 500/2901 [00:00<00:03, 693.81it/s]"
          ]
        },
        {
          "name": "stdout",
          "output_type": "stream",
          "text": [
            "⏩ Skipping ID_EGXKRV.mgb, already decoded\n",
            "⏩ Skipping ID_EHCCXF.mgb, already decoded\n",
            "⏩ Skipping ID_EHJADX.mgb, already decoded\n",
            "⏩ Skipping ID_EHLHXH.mgb, already decoded\n",
            "⏩ Skipping ID_EHQWZN.mgb, already decoded\n",
            "⏩ Skipping ID_EHUOAV.mgb, already decoded\n",
            "⏩ Skipping ID_EHZHQM.mgb, already decoded\n",
            "⏩ Skipping ID_EICCAN.mgb, already decoded\n",
            "⏩ Skipping ID_EIHMGE.mgb, already decoded\n",
            "⏩ Skipping ID_EIOCOK.mgb, already decoded\n",
            "⏩ Skipping ID_EJCWGM.mgb, already decoded\n",
            "⏩ Skipping ID_EJFEWM.mgb, already decoded\n",
            "⏩ Skipping ID_EJINYE.mgb, already decoded\n",
            "⏩ Skipping ID_EJMLOW.mgb, already decoded\n",
            "⏩ Skipping ID_EJVYKU.mgb, already decoded\n",
            "⏩ Skipping ID_EKFEBW.mgb, already decoded\n",
            "⏩ Skipping ID_EKGEQY.mgb, already decoded\n",
            "⏩ Skipping ID_EKLDLL.mgb, already decoded\n",
            "⏩ Skipping ID_EKMOCN.mgb, already decoded\n",
            "⏩ Skipping ID_EKMYAN.mgb, already decoded\n",
            "⏩ Skipping ID_EKNQHF.mgb, already decoded\n",
            "⏩ Skipping ID_EKQQNR.mgb, already decoded\n"
          ]
        },
        {
          "name": "stderr",
          "output_type": "stream",
          "text": [
            "Decoding TrainFiles:  17%|█▋        | 500/2901 [00:00<00:03, 693.81it/s]"
          ]
        },
        {
          "name": "stdout",
          "output_type": "stream",
          "text": [
            "⏩ Skipping ID_EKWJKN.mgb, already decoded\n",
            "⏩ Skipping ID_ELUJSA.mgb, already decoded\n",
            "⏩ Skipping ID_ELUMYU.mgb, already decoded\n",
            "⏩ Skipping ID_EMDVPR.mgb, already decoded\n",
            "⏩ Skipping ID_EMEMQN.mgb, already decoded\n",
            "⏩ Skipping ID_EMPUET.mgb, already decoded\n",
            "⏩ Skipping ID_EMXBST.mgb, already decoded\n",
            "⏩ Skipping ID_ENPDII.mgb, already decoded\n",
            "⏩ Skipping ID_ENTHMT.mgb, already decoded\n",
            "⏩ Skipping ID_EOEKFK.mgb, already decoded\n",
            "⏩ Skipping ID_EOFJYY.mgb, already decoded\n"
          ]
        },
        {
          "name": "stderr",
          "output_type": "stream",
          "text": [
            "                                                                        "
          ]
        },
        {
          "name": "stdout",
          "output_type": "stream",
          "text": [
            "⏩ Skipping ID_EOPVWI.mgb, already decoded\n",
            "⏩ Skipping ID_EOTFRJ.mgb, already decoded\n",
            "⏩ Skipping ID_EOYXMZ.mgb, already decoded\n",
            "⏩ Skipping ID_EPFBJN.mgb, already decoded\n",
            "⏩ Skipping ID_EPFKPV.mgb, already decoded\n",
            "⏩ Skipping ID_EPHGWF.mgb, already decoded\n",
            "⏩ Skipping ID_EPHMFD.mgb, already decoded\n",
            "⏩ Skipping ID_EPOOYS.mgb, already decoded\n"
          ]
        },
        {
          "name": "stderr",
          "output_type": "stream",
          "text": [
            "Decoding TrainFiles:  17%|█▋        | 500/2901 [00:00<00:03, 693.81it/s]"
          ]
        },
        {
          "name": "stdout",
          "output_type": "stream",
          "text": [
            "⏩ Skipping ID_EPQAGU.mgb, already decoded\n",
            "⏩ Skipping ID_EPTMKH.mgb, already decoded\n",
            "⏩ Skipping ID_EQTHRG.mgb, already decoded\n",
            "⏩ Skipping ID_EQUKGI.mgb, already decoded\n",
            "⏩ Skipping ID_ERBWJV.mgb, already decoded\n",
            "⏩ Skipping ID_ERGFRA.mgb, already decoded\n",
            "⏩ Skipping ID_ERWHVV.mgb, already decoded\n",
            "⏩ Skipping ID_ESAWNV.mgb, already decoded\n",
            "⏩ Skipping ID_ESDTLH.mgb, already decoded\n",
            "⏩ Skipping ID_ESODFA.mgb, already decoded\n",
            "⏩ Skipping ID_ESUPOV.mgb, already decoded\n",
            "⏩ Skipping ID_ETHGVP.mgb, already decoded\n",
            "⏩ Skipping ID_ETQKXV.mgb, already decoded\n",
            "⏩ Skipping ID_ETRVTP.mgb, already decoded\n",
            "⏩ Skipping ID_ETXPIR.mgb, already decoded\n",
            "⏩ Skipping ID_EUFHUG.mgb, already decoded\n",
            "⏩ Skipping ID_EUINVA.mgb, already decoded\n",
            "⏩ Skipping ID_EUZWPA.mgb, already decoded\n",
            "⏩ Skipping ID_EVBJJD.mgb, already decoded\n",
            "⏩ Skipping ID_EVJBEP.mgb, already decoded\n",
            "⏩ Skipping ID_EVLRBX.mgb, already decoded\n",
            "⏩ Skipping ID_EVMBHD.mgb, already decoded\n"
          ]
        },
        {
          "name": "stderr",
          "output_type": "stream",
          "text": [
            "Decoding TrainFiles: 100%|██████████| 2901/2901 [4:22:12<00:00,  5.42s/it]    "
          ]
        },
        {
          "name": "stdout",
          "output_type": "stream",
          "text": [
            "✅ Finished decoding all files from f:\\Desktop\\Zindi\\MPEG\\TrainFiles → f:\\Desktop\\Zindi\\MPEG\\TrainFastQ\n"
          ]
        },
        {
          "name": "stderr",
          "output_type": "stream",
          "text": [
            "\n"
          ]
        }
      ],
      "source": [
        "import os\n",
        "import subprocess\n",
        "from pathlib import Path\n",
        "from tqdm import tqdm\n",
        "\n",
        "def decode_mgb_directory(input_dir, output_dir):\n",
        "    \"\"\"\n",
        "    Decode all .mgb files in input_dir to .fastq in output_dir using Docker genie.\n",
        "    Skips files that are already decoded.\n",
        "    Shows a tqdm progress bar.\n",
        "    \"\"\"\n",
        "    input_dir = os.path.abspath(input_dir)\n",
        "    output_dir = os.path.abspath(output_dir)\n",
        "\n",
        "    os.makedirs(output_dir, exist_ok=True)\n",
        "\n",
        "    # Container mount points\n",
        "    input_container_dir = \"/input\"\n",
        "    output_container_dir = \"/output\"\n",
        "\n",
        "    # Find all .mgb files\n",
        "    mgb_files = [f for f in os.listdir(input_dir) if f.endswith(\".mgb\")]\n",
        "    if not mgb_files:\n",
        "        print(f\"⚠️ No .mgb files found in {input_dir}\")\n",
        "        return\n",
        "\n",
        "    print(f\"\\n🔍 Found {len(mgb_files)} .mgb files in {input_dir}\")\n",
        "\n",
        "    for mgb_filename in tqdm(mgb_files, desc=f\"Decoding {os.path.basename(input_dir)}\"):\n",
        "        mgb_filename_no_mgb = os.path.splitext(mgb_filename)[0]\n",
        "        output_fastq = Path(output_dir) / f\"{mgb_filename_no_mgb}.fastq\"\n",
        "\n",
        "        # Skip if already processed\n",
        "        if output_fastq.exists():\n",
        "            tqdm.write(f\"⏩ Skipping {mgb_filename}, already decoded\")\n",
        "            continue\n",
        "\n",
        "        command = [\n",
        "            \"docker\", \"run\", \"--rm\",\n",
        "            \"-v\", f\"{input_dir}:{input_container_dir}\",\n",
        "            \"-v\", f\"{output_dir}:{output_container_dir}\",\n",
        "            \"muefab/genie:latest\", \"run\",\n",
        "            \"-f\",\n",
        "            \"-i\", f\"{input_container_dir}/{mgb_filename}\",\n",
        "            \"-o\", f\"{output_container_dir}/{mgb_filename_no_mgb}.fastq\"\n",
        "        ]\n",
        "\n",
        "        result = subprocess.run(command, capture_output=True, text=True)\n",
        "\n",
        "        if result.returncode != 0:\n",
        "            tqdm.write(f\"⚠️ Error decoding {mgb_filename}\")\n",
        "            if result.stderr.strip():\n",
        "                tqdm.write(result.stderr)\n",
        "\n",
        "    print(f\"✅ Finished decoding all files from {input_dir} → {output_dir}\")\n",
        "\n",
        "\n",
        "# Example usage\n",
        "decode_mgb_directory(TRAIN_MGB_PATH, TRAIN_FASTQ_PATH)\n"
      ]
    },
    {
      "cell_type": "code",
      "execution_count": null,
      "id": "f9ee9620",
      "metadata": {},
      "outputs": [
        {
          "name": "stdout",
          "output_type": "stream",
          "text": [
            "\n",
            "🔍 Found 1068 .mgb files in f:\\Desktop\\Zindi\\MPEG\\TestFiles\n"
          ]
        },
        {
          "name": "stderr",
          "output_type": "stream",
          "text": [
            "Decoding TestFiles:   0%|          | 0/1068 [00:00<?, ?it/s]"
          ]
        },
        {
          "name": "stdout",
          "output_type": "stream",
          "text": [
            "⏩ Skipping ID_ABHFUP.mgb, already decoded\n",
            "⏩ Skipping ID_ADBLNY.mgb, already decoded\n",
            "⏩ Skipping ID_AFAEMB.mgb, already decoded\n",
            "⏩ Skipping ID_AFBBWK.mgb, already decoded\n",
            "⏩ Skipping ID_AGHEZK.mgb, already decoded\n",
            "⏩ Skipping ID_AGKIYB.mgb, already decoded\n",
            "⏩ Skipping ID_AIQHUX.mgb, already decoded\n",
            "⏩ Skipping ID_AIVFAZ.mgb, already decoded\n",
            "⏩ Skipping ID_AJCBOB.mgb, already decoded\n",
            "⏩ Skipping ID_AJGVTS.mgb, already decoded\n",
            "⏩ Skipping ID_AJKHOU.mgb, already decoded\n",
            "⏩ Skipping ID_AKDVQI.mgb, already decoded\n",
            "⏩ Skipping ID_AKIAKB.mgb, already decoded\n"
          ]
        },
        {
          "name": "stderr",
          "output_type": "stream",
          "text": [
            "Decoding TestFiles: 100%|██████████| 1068/1068 [1:32:36<00:00,  5.20s/it] "
          ]
        },
        {
          "name": "stdout",
          "output_type": "stream",
          "text": [
            "✅ Finished decoding all files from f:\\Desktop\\Zindi\\MPEG\\TestFiles → f:\\Desktop\\Zindi\\MPEG\\TestFastQ\n"
          ]
        },
        {
          "name": "stderr",
          "output_type": "stream",
          "text": [
            "\n"
          ]
        }
      ],
      "source": [
        "decode_mgb_directory(TEST_MGB_PATH, TEST_FASTQ_PATH)"
      ]
    },
    {
      "cell_type": "markdown",
      "id": "d2472b20-6b35-4b89-83da-b8df524e9557",
      "metadata": {
        "id": "d2472b20-6b35-4b89-83da-b8df524e9557"
      },
      "source": [
        "### 🧠 What MPEG-G Did (Plain English)\n",
        "\n",
        "Your `.mgb` file used the MPEG-G standard to store sequencing data efficiently. Here's what happened under the hood:\n",
        "\n",
        "- **Access Units (AUs)**: Think of these as independent blocks, like packets or video frames. Each AU can be decoded without needing the entire file.\n",
        "  \n",
        "- **Descriptor Streams**:\n",
        "  - `SEQUENCE`: These are the DNA letters (A, T, C, G...).\n",
        "  - `QUALITY`: Confidence for each base (used to assess sequencing accuracy).\n",
        "  - `READ_IDENTIFIER`: Name or ID of each read.\n",
        "\n",
        "- **Compression Techniques**:\n",
        "  - Redundancies in the reads and IDs were removed.\n",
        "  - Quality scores may have been quantized or entropy-coded.\n",
        "  - Optional reference-based compression could align reads to a known genome and store only differences.\n",
        "\n",
        "- **Output Format (`.fastq`)**:\n",
        "  - This format is standard in genomics: it includes the ID, DNA sequence, and quality scores for each read.\n",
        "\n",
        "MPEG-G is to genomics what `.mp4` is to video — a way to store large data efficiently without losing critical information."
      ]
    },
    {
      "cell_type": "markdown",
      "id": "398823f5",
      "metadata": {},
      "source": []
    }
  ],
  "metadata": {
    "colab": {
      "provenance": []
    },
    "kernelspec": {
      "display_name": ".venv",
      "language": "python",
      "name": "python3"
    },
    "language_info": {
      "codemirror_mode": {
        "name": "ipython",
        "version": 3
      },
      "file_extension": ".py",
      "mimetype": "text/x-python",
      "name": "python",
      "nbconvert_exporter": "python",
      "pygments_lexer": "ipython3",
      "version": "3.13.6"
    }
  },
  "nbformat": 4,
  "nbformat_minor": 5
}
